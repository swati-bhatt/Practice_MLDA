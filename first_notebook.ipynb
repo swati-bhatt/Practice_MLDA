{
 "cells": [
  {
   "cell_type": "code",
   "execution_count": 1,
   "id": "e4e5f771-2fef-4c7c-9a23-b37bb1fd5c03",
   "metadata": {},
   "outputs": [
    {
     "data": {
      "text/plain": [
       "123"
      ]
     },
     "execution_count": 1,
     "metadata": {},
     "output_type": "execute_result"
    }
   ],
   "source": [
    "123"
   ]
  },
  {
   "cell_type": "code",
   "execution_count": 5,
   "id": "418fe19b-c88d-48d4-9aa7-783801cf2b26",
   "metadata": {},
   "outputs": [
    {
     "name": "stdout",
     "output_type": "stream",
     "text": [
      "Hello Everyone\n",
      "What's Up?\n"
     ]
    }
   ],
   "source": [
    "fd= open(\"myfile.txt\", 'r')\n",
    "\n",
    "txt=fd.read()\n",
    "print(txt)\n",
    "\n",
    "fd.close()"
   ]
  },
  {
   "cell_type": "code",
   "execution_count": null,
   "id": "701708d0-4d6d-4979-9b41-3c9706fd361b",
   "metadata": {},
   "outputs": [],
   "source": []
  }
 ],
 "metadata": {
  "kernelspec": {
   "display_name": "Python 3 (ipykernel)",
   "language": "python",
   "name": "python3"
  },
  "language_info": {
   "codemirror_mode": {
    "name": "ipython",
    "version": 3
   },
   "file_extension": ".py",
   "mimetype": "text/x-python",
   "name": "python",
   "nbconvert_exporter": "python",
   "pygments_lexer": "ipython3",
   "version": "3.12.4"
  }
 },
 "nbformat": 4,
 "nbformat_minor": 5
}
