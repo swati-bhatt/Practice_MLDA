{
  "nbformat": 4,
  "nbformat_minor": 0,
  "metadata": {
    "colab": {
      "provenance": [],
      "authorship_tag": "ABX9TyOT7rVDcYICJxVsTtqITmk2",
      "include_colab_link": true
    },
    "kernelspec": {
      "name": "python3",
      "display_name": "Python 3"
    },
    "language_info": {
      "name": "python"
    }
  },
  "cells": [
    {
      "cell_type": "markdown",
      "metadata": {
        "id": "view-in-github",
        "colab_type": "text"
      },
      "source": [
        "<a href=\"https://colab.research.google.com/github/swati-bhatt/Practice_MLDA/blob/main/array_vs_list.ipynb\" target=\"_parent\"><img src=\"https://colab.research.google.com/assets/colab-badge.svg\" alt=\"Open In Colab\"/></a>"
      ]
    },
    {
      "cell_type": "markdown",
      "source": [
        "### Basic Overview"
      ],
      "metadata": {
        "id": "fZJ0IkEUE667"
      }
    },
    {
      "cell_type": "code",
      "execution_count": null,
      "metadata": {
        "id": "UrXErS0B_52o"
      },
      "outputs": [],
      "source": [
        "import numpy as np"
      ]
    },
    {
      "cell_type": "code",
      "source": [
        "lst=[1,2,3]\n",
        "print(lst)\n",
        "print(type(lst))\n",
        "print(\"-\"*20)\n",
        "\n",
        "arr=np.array([1,3,2])\n",
        "print(arr)\n",
        "print(type(arr))\n",
        "print(\"-\"*20)\n",
        "\n",
        "print(arr==lst)\n",
        "print(\"-\"*20)\n",
        "\n",
        "print(type(arr.tolist()))\n",
        "print(arr.tolist()==lst)\n",
        "print(\"-\"*20)\n",
        "\n",
        "print(sorted(arr)==sorted(lst))"
      ],
      "metadata": {
        "colab": {
          "base_uri": "https://localhost:8080/"
        },
        "id": "lkZHI2FFAEhT",
        "outputId": "533e020e-6072-4527-a830-0b4fd6eae519"
      },
      "execution_count": null,
      "outputs": [
        {
          "output_type": "stream",
          "name": "stdout",
          "text": [
            "[1, 2, 3]\n",
            "<class 'list'>\n",
            "--------------------\n",
            "[1 3 2]\n",
            "<class 'numpy.ndarray'>\n",
            "--------------------\n",
            "[ True False False]\n",
            "--------------------\n",
            "<class 'list'>\n",
            "False\n",
            "--------------------\n",
            "True\n"
          ]
        }
      ]
    },
    {
      "cell_type": "markdown",
      "source": [
        "### Adding elements to a array"
      ],
      "metadata": {
        "id": "f1izN3hiEzCr"
      }
    },
    {
      "cell_type": "code",
      "source": [
        "lst=[1,2,3]\n",
        "arr=np.array([1,2,3])\n",
        "\n",
        "print(lst)\n",
        "lst.append(4)\n",
        "print(lst)\n",
        "\n",
        "print(\"-\"*20)\n",
        "\n",
        "print(arr)\n",
        "arr=np.append(arr,4)\n",
        "print(arr)"
      ],
      "metadata": {
        "id": "z8M-wRYLAeKq",
        "colab": {
          "base_uri": "https://localhost:8080/"
        },
        "outputId": "6fb0e49a-e795-4688-b400-3b22084e887f"
      },
      "execution_count": null,
      "outputs": [
        {
          "output_type": "stream",
          "name": "stdout",
          "text": [
            "[1, 2, 3]\n",
            "[1, 2, 3, 4]\n",
            "--------------------\n",
            "[1 2 3]\n",
            "[1 2 3 4]\n"
          ]
        }
      ]
    },
    {
      "cell_type": "markdown",
      "source": [
        "### Removing elements from a array"
      ],
      "metadata": {
        "id": "aAXmB4WwGtOe"
      }
    },
    {
      "cell_type": "code",
      "source": [
        "lst=[1,2,3]\n",
        "arr=np.array([1,2,3])\n",
        "\n",
        "print(lst)\n",
        "del lst[-2]\n",
        "print(lst)\n",
        "\n",
        "print(\"-\"*20)\n",
        "\n",
        "print(arr)\n",
        "arr=np.delete(arr,-2)\n",
        "print(arr)"
      ],
      "metadata": {
        "colab": {
          "base_uri": "https://localhost:8080/"
        },
        "id": "C4FICiPaFadz",
        "outputId": "2723e23a-62c8-46cd-9051-b9c36d85d705"
      },
      "execution_count": null,
      "outputs": [
        {
          "output_type": "stream",
          "name": "stdout",
          "text": [
            "[1, 2, 3]\n",
            "[1, 3]\n",
            "--------------------\n",
            "[1 2 3]\n",
            "[1 3]\n"
          ]
        }
      ]
    },
    {
      "cell_type": "markdown",
      "source": [
        "### Updating an array"
      ],
      "metadata": {
        "id": "uGLF12pBGqyZ"
      }
    },
    {
      "cell_type": "code",
      "source": [
        "lst=[1,3,2]\n",
        "arr=np.array([1,3,2])\n",
        "\n",
        "print(lst)\n",
        "lst[-2]=2\n",
        "lst[-1]=3\n",
        "print(lst)\n",
        "\n",
        "print(\"-\"*20)\n",
        "\n",
        "print(arr)\n",
        "arr[-1]=3\n",
        "arr[-2]=2\n",
        "print(arr)"
      ],
      "metadata": {
        "colab": {
          "base_uri": "https://localhost:8080/"
        },
        "id": "wzaUL6C4GscW",
        "outputId": "40863771-fe2b-4015-b8cf-b1ebf90b5fea"
      },
      "execution_count": null,
      "outputs": [
        {
          "output_type": "stream",
          "name": "stdout",
          "text": [
            "[1, 3, 2]\n",
            "[1, 2, 3]\n",
            "--------------------\n",
            "[1 3 2]\n",
            "[1 2 3]\n"
          ]
        }
      ]
    },
    {
      "cell_type": "markdown",
      "source": [
        "## Speed"
      ],
      "metadata": {
        "id": "45T7jZizKEOP"
      }
    },
    {
      "cell_type": "code",
      "source": [
        "import time\n",
        "\n",
        "my_list=list(range(10000000))\n",
        "my_arr=np.arange(10000000)\n",
        "\n",
        "# print(len(my_list))\n",
        "# print(len(my_arr))\n",
        "\n",
        "start=time.time()\n",
        "for i in range(100):\n",
        "  if 5000000 in my_list:\n",
        "    pass\n",
        "end=time.time()\n",
        "print(\"Time taken by list  : \",(end-start))\n",
        "\n",
        "start=time.time()\n",
        "for i in range(100):\n",
        "  if 5000000 in my_arr:\n",
        "    pass\n",
        "end=time.time()\n",
        "print(\"Time taken by array : \",(end-start))"
      ],
      "metadata": {
        "colab": {
          "base_uri": "https://localhost:8080/"
        },
        "id": "q5_1qJ9TKCIP",
        "outputId": "6cdc8484-7bb0-443b-ff13-d372e1568f71"
      },
      "execution_count": null,
      "outputs": [
        {
          "output_type": "stream",
          "name": "stdout",
          "text": [
            "Time taken by list  :  5.90893292427063\n",
            "Time taken by array :  1.152900218963623\n"
          ]
        }
      ]
    },
    {
      "cell_type": "code",
      "source": [
        "my_list[:10]"
      ],
      "metadata": {
        "colab": {
          "base_uri": "https://localhost:8080/"
        },
        "id": "hZahvZXQKhSS",
        "outputId": "4ec7dfc8-e4a8-4751-d728-135909b595f7"
      },
      "execution_count": null,
      "outputs": [
        {
          "output_type": "execute_result",
          "data": {
            "text/plain": [
              "[0, 1, 2, 3, 4, 5, 6, 7, 8, 9]"
            ]
          },
          "metadata": {},
          "execution_count": 38
        }
      ]
    },
    {
      "cell_type": "code",
      "source": [
        "my_arr[:10]"
      ],
      "metadata": {
        "colab": {
          "base_uri": "https://localhost:8080/"
        },
        "id": "gSyKdpmjLEKO",
        "outputId": "5498795b-1aed-4e68-c8a3-1d9bfcc3a1fc"
      },
      "execution_count": null,
      "outputs": [
        {
          "output_type": "execute_result",
          "data": {
            "text/plain": [
              "array([0, 1, 2, 3, 4, 5, 6, 7, 8, 9])"
            ]
          },
          "metadata": {},
          "execution_count": 34
        }
      ]
    },
    {
      "cell_type": "code",
      "source": [],
      "metadata": {
        "id": "XKzgASQYLJHa"
      },
      "execution_count": null,
      "outputs": []
    }
  ]
}